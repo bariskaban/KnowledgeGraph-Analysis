{
 "cells": [
  {
   "cell_type": "markdown",
   "metadata": {},
   "source": [
    "# UFC Knowledge Graph – Analysis & Visualisation\n",
    "\n",
    "This notebook loads the UFC ontology + instances (TTL), runs SPARQL queries with RDFLib, converts the results to Pandas DataFrames, and produces simple visualisations that help answer the competency questions."
   ]
  },
  {
   "cell_type": "code",
   "execution_count": 1,
   "metadata": {},
   "outputs": [
    {
     "name": "stdout",
     "output_type": "stream",
     "text": [
      "Files found: True True\n"
     ]
    }
   ],
   "source": [
    "# 0) Setup\n",
    "from rdflib import Graph\n",
    "import pandas as pd\n",
    "import matplotlib.pyplot as plt\n",
    "from pathlib import Path\n",
    "\n",
    "plt.rcParams['figure.figsize'] = (9, 5)\n",
    "plt.rcParams['axes.grid'] = True\n",
    "\n",
    "BASE = Path('.')  # current folder\n",
    "ONTO_FILE = BASE / 'ufc-ontology.ttl'\n",
    "INST_FILE = BASE / 'ufc-instances.ttl'\n",
    "\n",
    "print('Files found:', ONTO_FILE.exists(), INST_FILE.exists())"
   ]
  },
  {
   "cell_type": "code",
   "execution_count": 2,
   "metadata": {},
   "outputs": [
    {
     "name": "stdout",
     "output_type": "stream",
     "text": [
      "Graph loaded. Triples: 260\n"
     ]
    }
   ],
   "source": [
    "# 1) Load graph (ontology + instances)\n",
    "g = Graph()\n",
    "g.parse(ONTO_FILE, format='turtle')\n",
    "g.parse(INST_FILE, format='turtle')\n",
    "print(f'Graph loaded. Triples: {len(g):,}')"
   ]
  },
  {
   "cell_type": "code",
   "execution_count": 3,
   "metadata": {},
   "outputs": [],
   "source": [
    "# 2) Helpers: run SPARQL to DataFrame + label handling\n",
    "EX = 'http://example.org/ufc#'\n",
    "\n",
    "def run_df(query: str) -> pd.DataFrame:\n",
    "    \"\"\"Run SPARQL query on the graph and return a pandas DataFrame.\"\"\"\n",
    "    rows = []\n",
    "    for r in g.query(query):\n",
    "        rows.append([str(x) if x is not None else None for x in r])\n",
    "    return pd.DataFrame(rows, columns=[str(v) for v in g.query(query).vars])\n",
    "\n",
    "def local_name(uri: str) -> str:\n",
    "    if uri is None:\n",
    "        return ''\n",
    "    if '#' in uri:  \n",
    "        return uri.split('#')[-1]\n",
    "    return uri.rstrip('/').split('/')[-1]"
   ]
  },
  {
   "cell_type": "markdown",
   "metadata": {},
   "source": [
    "## CQ1 – Which fighters have the most wins?\n",
    "Shows the top fighters by number of `ex:hasWinner` relations."
   ]
  },
  {
   "cell_type": "code",
   "execution_count": 4,
   "metadata": {},
   "outputs": [
    {
     "data": {
      "text/html": [
       "<div>\n",
       "<style scoped>\n",
       "    .dataframe tbody tr th:only-of-type {\n",
       "        vertical-align: middle;\n",
       "    }\n",
       "\n",
       "    .dataframe tbody tr th {\n",
       "        vertical-align: top;\n",
       "    }\n",
       "\n",
       "    .dataframe thead th {\n",
       "        text-align: right;\n",
       "    }\n",
       "</style>\n",
       "<table border=\"1\" class=\"dataframe\">\n",
       "  <thead>\n",
       "    <tr style=\"text-align: right;\">\n",
       "      <th></th>\n",
       "      <th>label</th>\n",
       "      <th>wins</th>\n",
       "    </tr>\n",
       "  </thead>\n",
       "  <tbody>\n",
       "    <tr>\n",
       "      <th>0</th>\n",
       "      <td>Dustin Poirier</td>\n",
       "      <td>2</td>\n",
       "    </tr>\n",
       "    <tr>\n",
       "      <th>1</th>\n",
       "      <td>Charles Oliveira</td>\n",
       "      <td>1</td>\n",
       "    </tr>\n",
       "  </tbody>\n",
       "</table>\n",
       "</div>"
      ],
      "text/plain": [
       "              label  wins\n",
       "0    Dustin Poirier     2\n",
       "1  Charles Oliveira     1"
      ]
     },
     "metadata": {},
     "output_type": "display_data"
    },
    {
     "data": {
      "image/png": "[encoded data removed]",
      "text/plain": [
       "<Figure size 900x500 with 1 Axes>"
      ]
     },
     "metadata": {},
     "output_type": "display_data"
    }
   ],
   "source": [
    "q_wins = '''\n",
    "PREFIX ex:  <http://example.org/ufc#>\n",
    "\n",
    "SELECT ?fighter ?name (COUNT(?fight) AS ?wins)\n",
    "WHERE {\n",
    "  ?fight a ex:Fight ;\n",
    "         ex:hasWinner ?fighter .\n",
    "  OPTIONAL { ?fighter ex:fighterName ?name }\n",
    "}\n",
    "GROUP BY ?fighter ?name\n",
    "ORDER BY DESC(?wins)\n",
    "LIMIT 20\n",
    "'''\n",
    "\n",
    "wins_df = run_df(q_wins)\n",
    "if not wins_df.empty:\n",
    "    # Build display label\n",
    "    wins_df['label'] = wins_df.apply(lambda r: r['name'] if r['name'] else local_name(r['fighter']), axis=1)\n",
    "    wins_df['wins'] = wins_df['wins'].astype(int)\n",
    "    display(wins_df[['label','wins']])\n",
    "\n",
    "    # Plot\n",
    "    ax = wins_df.sort_values('wins', ascending=False).plot(kind='bar', x='label', y='wins', legend=False)\n",
    "    ax.set_title('Top Fighters by Wins')\n",
    "    ax.set_xlabel('Fighter')\n",
    "    ax.set_ylabel('Wins')\n",
    "    plt.xticks(rotation=45, ha='right')\n",
    "    plt.tight_layout()\n",
    "    plt.show()\n",
    "else:\n",
    "    print('No wins data found (check instances).')"
   ]
  },
  {
   "cell_type": "markdown",
   "metadata": {},
   "source": [
    "## CQ2 – How are fights won? (distribution of methods)\n",
    "Counts fights grouped by `ex:hasMethod` (e.g., KO/TKO, Submission, Decision…)."
   ]
  },
  {
   "cell_type": "code",
   "execution_count": 5,
   "metadata": {},
   "outputs": [
    {
     "data": {
      "text/html": [
       "<div>\n",
       "<style scoped>\n",
       "    .dataframe tbody tr th:only-of-type {\n",
       "        vertical-align: middle;\n",
       "    }\n",
       "\n",
       "    .dataframe tbody tr th {\n",
       "        vertical-align: top;\n",
       "    }\n",
       "\n",
       "    .dataframe thead th {\n",
       "        text-align: right;\n",
       "    }\n",
       "</style>\n",
       "<table border=\"1\" class=\"dataframe\">\n",
       "  <thead>\n",
       "    <tr style=\"text-align: right;\">\n",
       "      <th></th>\n",
       "      <th>label</th>\n",
       "      <th>count</th>\n",
       "    </tr>\n",
       "  </thead>\n",
       "  <tbody>\n",
       "    <tr>\n",
       "      <th>0</th>\n",
       "      <td>method-TKO</td>\n",
       "      <td>3</td>\n",
       "    </tr>\n",
       "  </tbody>\n",
       "</table>\n",
       "</div>"
      ],
      "text/plain": [
       "        label  count\n",
       "0  method-TKO      3"
      ]
     },
     "metadata": {},
     "output_type": "display_data"
    },
    {
     "data": {
      "image/png": "[encoded data removed]",
      "text/plain": [
       "<Figure size 900x500 with 1 Axes>"
      ]
     },
     "metadata": {},
     "output_type": "display_data"
    }
   ],
   "source": [
    "q_methods = '''\n",
    "PREFIX ex:  <http://example.org/ufc#>\n",
    "\n",
    "SELECT ?method (COUNT(?fight) AS ?count)\n",
    "WHERE {\n",
    "  ?fight a ex:Fight ;\n",
    "         ex:hasMethod ?method .\n",
    "}\n",
    "GROUP BY ?method\n",
    "ORDER BY DESC(?count)\n",
    "'''\n",
    "\n",
    "methods_df = run_df(q_methods)\n",
    "if not methods_df.empty:\n",
    "    methods_df['label'] = methods_df['method'].apply(local_name)\n",
    "    methods_df['count'] = methods_df['count'].astype(int)\n",
    "    display(methods_df[['label','count']])\n",
    "\n",
    "    ax = methods_df.sort_values('count', ascending=False).plot(kind='bar', x='label', y='count', legend=False)\n",
    "    ax.set_title('Distribution of Win Methods')\n",
    "    ax.set_xlabel('Method')\n",
    "    ax.set_ylabel('Fights')\n",
    "    plt.xticks(rotation=45, ha='right')\n",
    "    plt.tight_layout()\n",
    "    plt.show()\n",
    "else:\n",
    "    print('No method data found (check instances).')"
   ]
  },
  {
   "cell_type": "markdown",
   "metadata": {},
   "source": [
    "## CQ3 – Title vs Non-Title ratio\n",
    "Counts fights by boolean data property `ex:isTitleBout`."
   ]
  },
  {
   "cell_type": "code",
   "execution_count": 6,
   "metadata": {},
   "outputs": [
    {
     "data": {
      "text/html": [
       "<div>\n",
       "<style scoped>\n",
       "    .dataframe tbody tr th:only-of-type {\n",
       "        vertical-align: middle;\n",
       "    }\n",
       "\n",
       "    .dataframe tbody tr th {\n",
       "        vertical-align: top;\n",
       "    }\n",
       "\n",
       "    .dataframe thead th {\n",
       "        text-align: right;\n",
       "    }\n",
       "</style>\n",
       "<table border=\"1\" class=\"dataframe\">\n",
       "  <thead>\n",
       "    <tr style=\"text-align: right;\">\n",
       "      <th></th>\n",
       "      <th>label</th>\n",
       "      <th>count</th>\n",
       "    </tr>\n",
       "  </thead>\n",
       "  <tbody>\n",
       "    <tr>\n",
       "      <th>0</th>\n",
       "      <td>Non-Title Bout</td>\n",
       "      <td>2</td>\n",
       "    </tr>\n",
       "    <tr>\n",
       "      <th>1</th>\n",
       "      <td>Title Bout</td>\n",
       "      <td>1</td>\n",
       "    </tr>\n",
       "  </tbody>\n",
       "</table>\n",
       "</div>"
      ],
      "text/plain": [
       "            label  count\n",
       "0  Non-Title Bout      2\n",
       "1      Title Bout      1"
      ]
     },
     "metadata": {},
     "output_type": "display_data"
    },
    {
     "data": {
      "image/png": "[encoded data removed]",
      "text/plain": [
       "<Figure size 900x500 with 1 Axes>"
      ]
     },
     "metadata": {},
     "output_type": "display_data"
    }
   ],
   "source": [
    "q_title = '''\n",
    "PREFIX ex:  <http://example.org/ufc#>\n",
    "\n",
    "SELECT ?isTitle (COUNT(?fight) AS ?count)\n",
    "WHERE {\n",
    "  ?fight a ex:Fight ;\n",
    "         ex:isTitleBout ?isTitle .\n",
    "}\n",
    "GROUP BY ?isTitle\n",
    "ORDER BY DESC(?count)\n",
    "'''\n",
    "\n",
    "title_df = run_df(q_title)\n",
    "if not title_df.empty:\n",
    "    # Cast to nicer labels if possible\n",
    "    title_df['label'] = title_df['isTitle'].map({'true':'Title Bout','false':'Non-Title Bout'}).fillna(title_df['isTitle'])\n",
    "    title_df['count'] = title_df['count'].astype(int)\n",
    "    display(title_df[['label','count']])\n",
    "\n",
    "    ax = title_df.plot(kind='bar', x='label', y='count', legend=False)\n",
    "    ax.set_title('Title vs Non-Title Bouts')\n",
    "    ax.set_xlabel('Type')\n",
    "    ax.set_ylabel('Fights')\n",
    "    plt.xticks(rotation=0)\n",
    "    plt.tight_layout()\n",
    "    plt.show()\n",
    "else:\n",
    "    print('No title/non-title data found (check instances).')"
   ]
  },
  {
   "cell_type": "markdown",
   "metadata": {},
   "source": [
    "## Extra – Events by Country\n",
    "Counts distinct events per `ex:inCountry` through the event venue `ex:heldAt`."
   ]
  },
  {
   "cell_type": "code",
   "execution_count": 7,
   "metadata": {},
   "outputs": [
    {
     "name": "stdout",
     "output_type": "stream",
     "text": [
      "No event/venue/country data found (check instances).\n"
     ]
    }
   ],
   "source": [
    "q_country = '''\n",
    "PREFIX ex:  <http://example.org/ufc#>\n",
    "\n",
    "SELECT ?country (COUNT(DISTINCT ?event) AS ?events)\n",
    "WHERE {\n",
    "  ?event a ex:Event ; ex:heldAt ?venue .\n",
    "  OPTIONAL { ?venue ex:inCountry ?country }\n",
    "}\n",
    "GROUP BY ?country\n",
    "ORDER BY DESC(?events)\n",
    "'''\n",
    "\n",
    "country_df = run_df(q_country)\n",
    "if not country_df.empty:\n",
    "    country_df['label'] = country_df['country'].apply(local_name)\n",
    "    country_df['events'] = country_df['events'].astype(int)\n",
    "    display(country_df[['label','events']])\n",
    "\n",
    "    ax = country_df.sort_values('events', ascending=False).plot(kind='bar', x='label', y='events', legend=False)\n",
    "    ax.set_title('Events by Country')\n",
    "    ax.set_xlabel('Country')\n",
    "    ax.set_ylabel('Events')\n",
    "    plt.xticks(rotation=45, ha='right')\n",
    "    plt.tight_layout()\n",
    "    plt.show()\n",
    "else:\n",
    "    print('No event/venue/country data found (check instances).')"
   ]
  },
  {
   "cell_type": "markdown",
   "metadata": {},
   "source": [
    "## Inspect recent fights (table)\n",
    "Handy for sanity-checking the graph content."
   ]
  },
  {
   "cell_type": "code",
   "execution_count": 8,
   "metadata": {},
   "outputs": [
    {
     "data": {
      "text/html": [
       "<div>\n",
       "<style scoped>\n",
       "    .dataframe tbody tr th:only-of-type {\n",
       "        vertical-align: middle;\n",
       "    }\n",
       "\n",
       "    .dataframe tbody tr th {\n",
       "        vertical-align: top;\n",
       "    }\n",
       "\n",
       "    .dataframe thead th {\n",
       "        text-align: right;\n",
       "    }\n",
       "</style>\n",
       "<table border=\"1\" class=\"dataframe\">\n",
       "  <thead>\n",
       "    <tr style=\"text-align: right;\">\n",
       "      <th></th>\n",
       "      <th>event</th>\n",
       "      <th>date</th>\n",
       "      <th>fight</th>\n",
       "      <th>winner</th>\n",
       "      <th>p1</th>\n",
       "      <th>p2</th>\n",
       "    </tr>\n",
       "  </thead>\n",
       "  <tbody>\n",
       "    <tr>\n",
       "      <th>0</th>\n",
       "      <td>event-UFC-257</td>\n",
       "      <td>2021-01-23</td>\n",
       "      <td>fight-UFC-257-1-Conor-McGregor-Dustin-Poirier</td>\n",
       "      <td>fighter-Dustin-Poirier</td>\n",
       "      <td>fighter-Conor-McGregor</td>\n",
       "      <td>fighter-Dustin-Poirier</td>\n",
       "    </tr>\n",
       "    <tr>\n",
       "      <th>1</th>\n",
       "      <td>event-UFC-257</td>\n",
       "      <td>2021-01-23</td>\n",
       "      <td>fight-UFC-257-1-Conor-McGregor-Dustin-Poirier</td>\n",
       "      <td>fighter-Dustin-Poirier</td>\n",
       "      <td>fighter-Dustin-Poirier</td>\n",
       "      <td>fighter-Conor-McGregor</td>\n",
       "    </tr>\n",
       "    <tr>\n",
       "      <th>2</th>\n",
       "      <td>event-UFC-262</td>\n",
       "      <td>2021-05-15</td>\n",
       "      <td>fight-UFC-262-1-Charles-Oliveira-Michael-Chandler</td>\n",
       "      <td>fighter-Charles-Oliveira</td>\n",
       "      <td>fighter-Charles-Oliveira</td>\n",
       "      <td>fighter-Michael-Chandler</td>\n",
       "    </tr>\n",
       "    <tr>\n",
       "      <th>3</th>\n",
       "      <td>event-UFC-262</td>\n",
       "      <td>2021-05-15</td>\n",
       "      <td>fight-UFC-262-1-Charles-Oliveira-Michael-Chandler</td>\n",
       "      <td>fighter-Charles-Oliveira</td>\n",
       "      <td>fighter-Michael-Chandler</td>\n",
       "      <td>fighter-Charles-Oliveira</td>\n",
       "    </tr>\n",
       "    <tr>\n",
       "      <th>4</th>\n",
       "      <td>event-UFC-264</td>\n",
       "      <td>2021-07-10</td>\n",
       "      <td>fight-UFC-264-1-Conor-McGregor-Dustin-Poirier</td>\n",
       "      <td>fighter-Dustin-Poirier</td>\n",
       "      <td>fighter-Conor-McGregor</td>\n",
       "      <td>fighter-Dustin-Poirier</td>\n",
       "    </tr>\n",
       "    <tr>\n",
       "      <th>5</th>\n",
       "      <td>event-UFC-264</td>\n",
       "      <td>2021-07-10</td>\n",
       "      <td>fight-UFC-264-1-Conor-McGregor-Dustin-Poirier</td>\n",
       "      <td>fighter-Dustin-Poirier</td>\n",
       "      <td>fighter-Dustin-Poirier</td>\n",
       "      <td>fighter-Conor-McGregor</td>\n",
       "    </tr>\n",
       "  </tbody>\n",
       "</table>\n",
       "</div>"
      ],
      "text/plain": [
       "           event        date  \\\n",
       "0  event-UFC-257  2021-01-23   \n",
       "1  event-UFC-257  2021-01-23   \n",
       "2  event-UFC-262  2021-05-15   \n",
       "3  event-UFC-262  2021-05-15   \n",
       "4  event-UFC-264  2021-07-10   \n",
       "5  event-UFC-264  2021-07-10   \n",
       "\n",
       "                                               fight  \\\n",
       "0      fight-UFC-257-1-Conor-McGregor-Dustin-Poirier   \n",
       "1      fight-UFC-257-1-Conor-McGregor-Dustin-Poirier   \n",
       "2  fight-UFC-262-1-Charles-Oliveira-Michael-Chandler   \n",
       "3  fight-UFC-262-1-Charles-Oliveira-Michael-Chandler   \n",
       "4      fight-UFC-264-1-Conor-McGregor-Dustin-Poirier   \n",
       "5      fight-UFC-264-1-Conor-McGregor-Dustin-Poirier   \n",
       "\n",
       "                     winner                        p1  \\\n",
       "0    fighter-Dustin-Poirier    fighter-Conor-McGregor   \n",
       "1    fighter-Dustin-Poirier    fighter-Dustin-Poirier   \n",
       "2  fighter-Charles-Oliveira  fighter-Charles-Oliveira   \n",
       "3  fighter-Charles-Oliveira  fighter-Michael-Chandler   \n",
       "4    fighter-Dustin-Poirier    fighter-Conor-McGregor   \n",
       "5    fighter-Dustin-Poirier    fighter-Dustin-Poirier   \n",
       "\n",
       "                         p2  \n",
       "0    fighter-Dustin-Poirier  \n",
       "1    fighter-Conor-McGregor  \n",
       "2  fighter-Michael-Chandler  \n",
       "3  fighter-Charles-Oliveira  \n",
       "4    fighter-Dustin-Poirier  \n",
       "5    fighter-Conor-McGregor  "
      ]
     },
     "metadata": {},
     "output_type": "display_data"
    }
   ],
   "source": [
    "q_recent = '''\n",
    "PREFIX ex:  <http://example.org/ufc#>\n",
    "\n",
    "SELECT ?event ?date ?fight ?winner ?p1 ?p2\n",
    "WHERE {\n",
    "  ?fight a ex:Fight ;\n",
    "         ex:partOfEvent ?event ;\n",
    "         ex:hasWinner ?winner ;\n",
    "         ex:hasParticipant ?p1 , ?p2 .\n",
    "  FILTER(?p1 != ?p2)\n",
    "  OPTIONAL { ?event ex:eventDate ?date }\n",
    "}\n",
    "LIMIT 100\n",
    "'''\n",
    "\n",
    "recent_df = run_df(q_recent)\n",
    "if not recent_df.empty:\n",
    "    for col in ['event','fight','winner','p1','p2']:\n",
    "        recent_df[col] = recent_df[col].apply(local_name)\n",
    "    display(recent_df.head(20))\n",
    "else:\n",
    "    print('No fights found (check instances).')"
   ]
  }
 ],
 "metadata": {
  "kernelspec": {
   "display_name": "Python 3",
   "language": "python",
   "name": "python3"
  },
  "language_info": {
   "codemirror_mode": {
    "name": "ipython",
    "version": 3
   },
   "file_extension": ".py",
   "mimetype": "text/x-python",
   "name": "python",
   "nbconvert_exporter": "python",
   "pygments_lexer": "ipython3",
   "version": "3.12.6"
  }
 },
 "nbformat": 4,
 "nbformat_minor": 5
}
